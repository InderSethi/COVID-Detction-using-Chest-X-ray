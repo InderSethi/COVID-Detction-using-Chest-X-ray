{
 "cells": [
  {
   "cell_type": "code",
   "execution_count": null,
   "id": "8825864d",
   "metadata": {},
   "outputs": [],
   "source": [
    "from keras.models import load_model\n",
    "from keras.preprocessing import image\n",
    "from keras.applications.vgg16 import preprocess_input\n",
    "import numpy as np\n",
    "model = load_model('C:/Users/Inder/model_vgg16_covid.h5')\n",
    "\n",
    "\n",
    "\n",
    "from PIL import Image\n",
    "import requests\n"
   ]
  },
  {
   "cell_type": "code",
   "execution_count": null,
   "id": "d191316b",
   "metadata": {},
   "outputs": [],
   "source": [
    "url = 'https://wp.technologyreview.com/wp-content/uploads/2020/03/cdc-nmzdj2zu36m-unsplash-5.jpg' # Enter Image URL to Identify its Covid or not\n",
    "img = Image.open(requests.get(url, stream=True).raw)\n",
    "img = img.resize((224,224), Image.ANTIALIAS)"
   ]
  },
  {
   "cell_type": "code",
   "execution_count": null,
   "id": "367dfa8a",
   "metadata": {},
   "outputs": [],
   "source": [
    "# To Load data from PC Harddrive\n",
    "#img = image.load_img('C:/Users/Inder/xray_dataset_covid19/train/COVID/8FDE8DBA-CFBD-4B4C-B1A4-6F36A93B7E87.jpeg', target_size=(224,224))\n",
    "img.show()\n",
    "x = image.img_to_array(img)\n",
    "x = np.expand_dims(x, axis=0)\n",
    "img_data = preprocess_input(x)\n",
    "classes = model.predict(img_data)\n",
    "covid = (classes[0][1])*100\n",
    "normal = (classes[0][0])*100"
   ]
  },
  {
   "cell_type": "code",
   "execution_count": null,
   "id": "d95b3307",
   "metadata": {},
   "outputs": [],
   "source": [
    "#print PERCENTAGE CONFIDENCE\n",
    "print('Non COVID Xray Confidence')\n",
    "print(str(normal) + \"%\")\n",
    "print(\"\")\n",
    "print('Covid Xray Confidence')\n",
    "print(str(covid)+\"%\")\n",
    "print(\"\")\n",
    "#print('Pnemonia Xray Confidence')\n",
    "#print(str(bactpnemonia)+\"%\")\n",
    "print(\"\")"
   ]
  }
 ],
 "metadata": {
  "kernelspec": {
   "display_name": "Python 3",
   "language": "python",
   "name": "python3"
  },
  "language_info": {
   "codemirror_mode": {
    "name": "ipython",
    "version": 3
   },
   "file_extension": ".py",
   "mimetype": "text/x-python",
   "name": "python",
   "nbconvert_exporter": "python",
   "pygments_lexer": "ipython3",
   "version": "3.8.8"
  }
 },
 "nbformat": 4,
 "nbformat_minor": 5
}
